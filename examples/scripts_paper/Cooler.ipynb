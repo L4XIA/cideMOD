{
 "cells": [
  {
   "cell_type": "markdown",
   "metadata": {},
   "source": [
    "# Simulation Settings"
   ]
  },
  {
   "cell_type": "code",
   "execution_count": null,
   "metadata": {},
   "outputs": [],
   "source": [
    "import numpy as np\n",
    "from cideMOD import (\n",
    "    CellParser,\n",
    "    ErrorCheck,\n",
    "    NDProblem,\n",
    "    Problem,\n",
    "    SolverCrashed,\n",
    "    Trigger,\n",
    "    init_results_folder,\n",
    "    ModelOptions,\n",
    ")"
   ]
  },
  {
   "cell_type": "code",
   "execution_count": null,
   "metadata": {},
   "outputs": [],
   "source": [
    "overwrite = False\n",
    "case = \"Xu_2015\"\n",
    "data_path = f\"../../data/data_{case}\"\n",
    "params = \"params.json\"\n",
    "\n",
    "model_options = ModelOptions(mode='P4D', solve_thermal = True)\n",
    "\n",
    "C_rate = 1 # Positive == discharge\n",
    "\n",
    "T_0 = 273 + 20 # Initial cell temperature [K]\n",
    "\n",
    "v_min = 2.1 # Cut-off voltage\n",
    "\n",
    "timestep = 5 # int, float\n",
    "\n",
    "H = 297e-3 # New cell height [m]\n",
    "\n",
    "W = 210e-3 # New cell width [m]\n",
    "\n",
    "h_c = 660 # Effective cooler-cell thermal contact conductance [W/m^2 K]\n",
    "\n",
    "T_cooler = 273 + 20 # Cooler temperature [K]\n"
   ]
  },
  {
   "cell_type": "markdown",
   "metadata": {},
   "source": [
    "### Resize the default cell"
   ]
  },
  {
   "cell_type": "code",
   "execution_count": null,
   "metadata": {},
   "outputs": [],
   "source": [
    "import os\n",
    "import json\n",
    "\n",
    "with open(os.path.join(data_path, params),'r') as fin:\n",
    "    params_dict = json.load(fin)\n",
    "\n",
    "for key in ['negativeElectrode', 'positiveElectrode', 'separator', 'negativeCurrentCollector', 'positiveCurrentCollector']:\n",
    "    if key not in params_dict:\n",
    "        continue\n",
    "    params_dict[key]['height']['value'] = H\n",
    "    params_dict[key]['width']['value'] = W\n",
    "\n",
    "cell = CellParser(params_dict, data_path=data_path)"
   ]
  },
  {
   "cell_type": "markdown",
   "metadata": {},
   "source": [
    "# Cooler Case"
   ]
  },
  {
   "cell_type": "code",
   "execution_count": null,
   "metadata": {},
   "outputs": [],
   "source": [
    "save_path = init_results_folder(\n",
    "    f\"{case}_{C_rate:.3g}C_cooler_case\", overwrite=overwrite, copy_files=[params_dict, model_options.dict()], filenames=['params', 'simulation_options']\n",
    ")\n",
    "\n",
    "problem = NDProblem(cell, model_options, save_path=save_path)\n",
    "problem.set_cell_state(1, T_0, T_0)\n",
    "problem.add_thermal_boundary_condition('Y_m', h_t = h_c, T_ref = T_cooler )\n",
    "problem.setup()\n",
    "I_app = -C_rate * problem.Q\n",
    "t_f = 3600 /abs(C_rate)*1.25\n",
    "\n",
    "status = problem.solve_ie( min_step=timestep, i_app=I_app, t_f=t_f, store_delay=1, adaptive=True, triggers=[Trigger(v_min, \"v\")] )"
   ]
  },
  {
   "cell_type": "markdown",
   "metadata": {},
   "source": [
    "# Adiabatic Case"
   ]
  },
  {
   "cell_type": "code",
   "execution_count": null,
   "metadata": {},
   "outputs": [],
   "source": [
    "save_path = init_results_folder(\n",
    "    f\"{case}_{C_rate:.3g}C_adiabatic_case\", overwrite=overwrite, copy_files=[params_dict, model_options.dict()], filenames=['params', 'simulation_options']\n",
    ")\n",
    "\n",
    "problem = NDProblem(cell, model_options, save_path=save_path)\n",
    "problem.set_cell_state(1, T_0, T_0)\n",
    "problem.setup()\n",
    "I_app = -C_rate * problem.Q\n",
    "t_f = 3600 /abs(C_rate)*1.25\n",
    "\n",
    "status = problem.solve_ie( min_step=timestep, i_app=I_app, t_f=t_f, store_delay=1, adaptive=True, triggers=[Trigger(v_min, \"v\")] )"
   ]
  }
 ],
 "metadata": {
  "kernelspec": {
   "display_name": "Python 3.10.4 64-bit",
   "language": "python",
   "name": "python3"
  },
  "language_info": {
   "codemirror_mode": {
    "name": "ipython",
    "version": 3
   },
   "file_extension": ".py",
   "mimetype": "text/x-python",
   "name": "python",
   "nbconvert_exporter": "python",
   "pygments_lexer": "ipython3",
   "version": "3.6.9"
  },
  "orig_nbformat": 4,
  "vscode": {
   "interpreter": {
    "hash": "31f2aee4e71d21fbe5cf8b01ff0e069b9275f58929596ceb00d14d90e3e16cd6"
   }
  }
 },
 "nbformat": 4,
 "nbformat_minor": 2
}
