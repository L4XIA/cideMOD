{
 "cells": [
  {
   "cell_type": "code",
   "execution_count": 1,
   "metadata": {},
   "outputs": [],
   "source": [
    "from cideMOD import (\n",
    "    CellParser,\n",
    "    ErrorCheck,\n",
    "    NDProblem,\n",
    "    Problem,\n",
    "    SolverCrashed,\n",
    "    Trigger,\n",
    "    init_results_folder,\n",
    "    ModelOptions,\n",
    ")\n",
    "import numpy as np"
   ]
  },
  {
   "cell_type": "code",
   "execution_count": 2,
   "metadata": {},
   "outputs": [],
   "source": [
    "overwrite = True\n",
    "case = \"dfn_94\"\n",
    "data_path = \"../../data/data_{}\".format(case)\n",
    "params = \"params.json\"\n",
    "\n",
    "model_options = ModelOptions(mode='P2D', clean_on_exit=False)"
   ]
  },
  {
   "cell_type": "code",
   "execution_count": 3,
   "metadata": {},
   "outputs": [],
   "source": [
    "reference = dict()\n",
    "for I in [30,40,50]:\n",
    "    reference[f'{I}A/m^2']= np.genfromtxt(f'{data_path}/results_V_{I}A_m2.txt')"
   ]
  },
  {
   "cell_type": "code",
   "execution_count": 4,
   "metadata": {},
   "outputs": [
    {
     "name": "stdout",
     "output_type": "stream",
     "text": [
      "Capacidad Anodo: 0.011166268062094992\n",
      "Capacidad Catodo: 0.011168525047086401\n",
      "Capacidad Celda: 0.011166268062094992\n",
      "Saving results to /home/fenics/shared/OS_PXD/examples/scripts_paper/results_dfn_94\n",
      "Building mesh for P2D problem with 3 components and 90 nodes.\n",
      "Finished building mesh\n",
      "Building problem setup\n",
      " - Build cell parameters - Done \n",
      " - Initializing state - Done \n",
      " - Build variational formulation - Done \n",
      "Problem Setup finished.\n",
      "Problem has 432.0 dofs.\n",
      "\n",
      "Solving ...\n",
      "initializing solution\n",
      "Voltage is 2 V at 6635.00 s \u001b[K-03\tTime: 1h 50min 30s\u001b[K\n",
      "\n",
      "Saving results to /home/fenics/shared/OS_PXD/examples/scripts_paper/results_dfn_94\n",
      "Building mesh for P2D problem with 3 components and 90 nodes.\n",
      "Finished building mesh\n",
      "Building problem setup\n",
      " - Build cell parameters - Done \n",
      " - Initializing state - Done \n",
      " - Build variational formulation - Done \n",
      "Problem Setup finished.\n",
      "Problem has 432.0 dofs.\n",
      "\n",
      "Solving ...\n",
      "initializing solution\n",
      "Saving results to /home/fenics/shared/OS_PXD/examples/scripts_paper/results_dfn_94\n",
      "Building mesh for P2D problem with 3 components and 90 nodes.\n",
      "Finished building mesh\n",
      "Building problem setup\n",
      " - Build cell parameters - Done \n",
      " - Initializing state - Done \n",
      " - Build variational formulation - Done \n",
      "Problem Setup finished.\n",
      "Problem has 432.0 dofs.\n",
      "\n",
      "Solving ...\n",
      "initializing solution\n",
      "Voltage: 2.9310\tCurrent: -1.00e-02\tTime: 36min 55s\u001b[K\r"
     ]
    }
   ],
   "source": [
    "cell = CellParser(params, data_path=data_path)\n",
    "results = dict()\n",
    "for I in [30,40,50]:\n",
    "    save_path = init_results_folder(\n",
    "        case, overwrite=overwrite, copy_files=[f\"{data_path}/{params}\"]\n",
    "    )\n",
    "    problem = Problem(cell, model_options, save_path=save_path)\n",
    "    problem.set_cell_state(1, 273 + 25, 273 + 25)\n",
    "    problem.setup()\n",
    "    I_app = -cell.area*I\n",
    "    t_f = 3600*2\n",
    "    v_min = Trigger(2, \"v\")\n",
    "    status = problem.solve_ie(\n",
    "        min_step=5, i_app=I_app, t_f=t_f, store_delay=10, adaptive=True, triggers=[v_min]\n",
    "    )\n",
    "    err = ErrorCheck(problem, status)\n",
    "    results[f'{I}A/m^2']= {key: problem.WH.get_global_variable(key) for key in ['time', *problem.WH.global_vars.keys()]}"
   ]
  },
  {
   "cell_type": "code",
   "execution_count": 12,
   "metadata": {},
   "outputs": [
    {
     "ename": "KeyError",
     "evalue": "'30 $A/m^2$'",
     "output_type": "error",
     "traceback": [
      "\u001b[0;31m---------------------------------------------------------------------------\u001b[0m",
      "\u001b[0;31mKeyError\u001b[0m                                  Traceback (most recent call last)",
      "\u001b[0;32m<ipython-input-12-71ce950a3135>\u001b[0m in \u001b[0;36m<module>\u001b[0;34m\u001b[0m\n\u001b[1;32m      6\u001b[0m \u001b[0;32mfor\u001b[0m \u001b[0mI\u001b[0m \u001b[0;32min\u001b[0m \u001b[0;34m[\u001b[0m\u001b[0;36m30\u001b[0m\u001b[0;34m,\u001b[0m\u001b[0;36m40\u001b[0m\u001b[0;34m,\u001b[0m\u001b[0;36m50\u001b[0m\u001b[0;34m]\u001b[0m\u001b[0;34m:\u001b[0m\u001b[0;34m\u001b[0m\u001b[0;34m\u001b[0m\u001b[0m\n\u001b[1;32m      7\u001b[0m     \u001b[0mtag\u001b[0m \u001b[0;34m=\u001b[0m \u001b[0;34m'{} $A/m^2$'\u001b[0m\u001b[0;34m.\u001b[0m\u001b[0mformat\u001b[0m\u001b[0;34m(\u001b[0m\u001b[0mI\u001b[0m\u001b[0;34m)\u001b[0m\u001b[0;34m\u001b[0m\u001b[0;34m\u001b[0m\u001b[0m\n\u001b[0;32m----> 8\u001b[0;31m     \u001b[0max1\u001b[0m\u001b[0;34m.\u001b[0m\u001b[0mplot\u001b[0m\u001b[0;34m(\u001b[0m\u001b[0mreference\u001b[0m\u001b[0;34m[\u001b[0m\u001b[0mtag\u001b[0m\u001b[0;34m]\u001b[0m\u001b[0;34m[\u001b[0m\u001b[0;34m:\u001b[0m\u001b[0;34m,\u001b[0m\u001b[0;36m0\u001b[0m\u001b[0;34m]\u001b[0m\u001b[0;34m,\u001b[0m \u001b[0mreference\u001b[0m\u001b[0;34m[\u001b[0m\u001b[0mtag\u001b[0m\u001b[0;34m]\u001b[0m\u001b[0;34m[\u001b[0m\u001b[0;34m:\u001b[0m\u001b[0;34m,\u001b[0m\u001b[0;36m1\u001b[0m\u001b[0;34m]\u001b[0m\u001b[0;34m,\u001b[0m \u001b[0;34m\"-\"\u001b[0m\u001b[0;34m,\u001b[0m \u001b[0mlabel\u001b[0m\u001b[0;34m=\u001b[0m\u001b[0;34m'DFN {}'\u001b[0m\u001b[0;34m.\u001b[0m\u001b[0mformat\u001b[0m\u001b[0;34m(\u001b[0m\u001b[0mtag\u001b[0m\u001b[0;34m)\u001b[0m\u001b[0;34m)\u001b[0m\u001b[0;34m\u001b[0m\u001b[0;34m\u001b[0m\u001b[0m\n\u001b[0m\u001b[1;32m      9\u001b[0m     \u001b[0max1\u001b[0m\u001b[0;34m.\u001b[0m\u001b[0mplot\u001b[0m\u001b[0;34m(\u001b[0m\u001b[0mresults\u001b[0m\u001b[0;34m[\u001b[0m\u001b[0mtag\u001b[0m\u001b[0;34m]\u001b[0m\u001b[0;34m[\u001b[0m\u001b[0;34m'cathode_SOC'\u001b[0m\u001b[0;34m]\u001b[0m\u001b[0;34m,\u001b[0m \u001b[0mresults\u001b[0m\u001b[0;34m[\u001b[0m\u001b[0mtag\u001b[0m\u001b[0;34m]\u001b[0m\u001b[0;34m[\u001b[0m\u001b[0;34m'voltage'\u001b[0m\u001b[0;34m]\u001b[0m\u001b[0;34m,\u001b[0m \u001b[0;34m\"--\"\u001b[0m\u001b[0;34m,\u001b[0m \u001b[0mlabel\u001b[0m\u001b[0;34m=\u001b[0m\u001b[0;34m'cideMOD {}'\u001b[0m\u001b[0;34m.\u001b[0m\u001b[0mformat\u001b[0m\u001b[0;34m(\u001b[0m\u001b[0mtag\u001b[0m\u001b[0;34m)\u001b[0m\u001b[0;34m)\u001b[0m\u001b[0;34m\u001b[0m\u001b[0;34m\u001b[0m\u001b[0m\n\u001b[1;32m     10\u001b[0m \u001b[0max1\u001b[0m\u001b[0;34m.\u001b[0m\u001b[0mset_xlabel\u001b[0m\u001b[0;34m(\u001b[0m\u001b[0;34m\"Cathode SOC [-]\"\u001b[0m\u001b[0;34m)\u001b[0m\u001b[0;34m\u001b[0m\u001b[0;34m\u001b[0m\u001b[0m\n",
      "\u001b[0;31mKeyError\u001b[0m: '30 $A/m^2$'"
     ]
    },
    {
     "data": {
      "image/png": "[encoded data removed]",
      "text/plain": [
       "<Figure size 1100x800 with 1 Axes>"
      ]
     },
     "metadata": {
      "needs_background": "light"
     },
     "output_type": "display_data"
    }
   ],
   "source": [
    "import matplotlib.pyplot as plt\n",
    "plt.rc('text', usetex=True)\n",
    "plt.rc('font', family='serif')\n",
    "\n",
    "fig, ax1 = plt.subplots(1, 1, figsize=(5.5, 4), dpi=200)\n",
    "for I in [30,40,50]:\n",
    "    tag = f'{I}A/m^2'\n",
    "    ax1.plot(reference[tag][:,0], reference[tag][:,1], \"-\", label='DFN {}{}'.format(tag,r\"A/m^2\"))\n",
    "    ax1.plot(results[tag]['cathode_SOC'], results[tag]['voltage'], \"--\", label='cideMOD {}{}'.format(I,r\"A/m^2\"))\n",
    "ax1.set_xlabel(\"Cathode SOC [-]\")\n",
    "ax1.set_ylabel(\"Voltage [V]\")\n",
    "ax1.legend(loc='center left', bbox_to_anchor=(1, 0.5))"
   ]
  }
 ],
 "metadata": {
  "kernelspec": {
   "display_name": "Python 3.6.9 64-bit",
   "language": "python",
   "name": "python3"
  },
  "language_info": {
   "codemirror_mode": {
    "name": "ipython",
    "version": 3
   },
   "file_extension": ".py",
   "mimetype": "text/x-python",
   "name": "python",
   "nbconvert_exporter": "python",
   "pygments_lexer": "ipython3",
   "version": "3.6.9"
  },
  "orig_nbformat": 4,
  "vscode": {
   "interpreter": {
    "hash": "31f2aee4e71d21fbe5cf8b01ff0e069b9275f58929596ceb00d14d90e3e16cd6"
   }
  }
 },
 "nbformat": 4,
 "nbformat_minor": 2
}
