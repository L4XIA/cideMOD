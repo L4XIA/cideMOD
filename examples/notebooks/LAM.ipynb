{
 "cells": [
  {
   "cell_type": "markdown",
   "metadata": {},
   "source": [
    "# Simulation Settings"
   ]
  },
  {
   "cell_type": "code",
   "execution_count": null,
   "metadata": {},
   "outputs": [],
   "source": [
    "import os\n",
    "import numpy as np\n",
    "from cideMOD import (\n",
    "    CellParser,\n",
    "    SolverCrashed,\n",
    "    init_results_folder,\n",
    "    ModelOptions,\n",
    "    CSI\n",
    ")"
   ]
  },
  {
   "cell_type": "code",
   "execution_count": null,
   "metadata": {},
   "outputs": [],
   "source": [
    "overwrite = False\n",
    "case = \"Ai_2020\"\n",
    "data_path = f\"../../data/data_{case}\"\n",
    "params = \"params_LAM.json\"\n",
    "\n",
    "model_options = ModelOptions(mode='P2D', clean_on_exit=False, solve_LAM=True)"
   ]
  },
  {
   "cell_type": "code",
   "execution_count": null,
   "metadata": {},
   "outputs": [],
   "source": [
    "cycling = {\n",
    "            \"name\": \"Discharge Cycle\",\n",
    "            \"type\": \"Cycle\",\n",
    "            \"count\": 2,\n",
    "            \"steps\": [\n",
    "                {\n",
    "                    \"name\": \"Discharge\",\n",
    "                    \"type\": \"Current\", \n",
    "                    \"value\": -1, \n",
    "                    \"unit\": \"C\", \n",
    "                    \"t_max\": {\"value\": 2, \"unit\": \"h\"},\n",
    "                    \"store_delay\": -1 ,\n",
    "                    \"min_step\": 10,\n",
    "                    \"events\": [\n",
    "                        {\n",
    "                            \"type\": \"Voltage\",\n",
    "                            \"value\": 3,  \n",
    "                            \"unit\": \"V\",  \n",
    "                            \"atol\": 1e-4, \n",
    "                            \"rtol\": 1e-3,\n",
    "                            \"goto\": \"Next\" \n",
    "                        }\n",
    "                    ]\n",
    "                },\n",
    "                {\n",
    "                    \"name\": \"Pause\",\n",
    "                    \"type\": \"Rest\",\n",
    "                    \"t_max\": {\"value\": 600, \"unit\": \"s\"},\n",
    "                    \"store_delay\": -1,\n",
    "                    \"min_step\": 10\n",
    "                },\n",
    "                {\n",
    "                    \"name\": \"Charge-CC\",\n",
    "                    \"type\": \"Current\", \n",
    "                    \"value\": 1, \n",
    "                    \"unit\": \"C\", \n",
    "                    \"t_max\": {\"value\": 2, \"unit\": \"h\"},\n",
    "                    \"store_delay\": -1 ,\n",
    "                    \"min_step\": 10,\n",
    "                    \"events\": [\n",
    "                        {\n",
    "                            \"type\": \"Voltage\",\n",
    "                            \"value\": 4.2,  \n",
    "                            \"unit\": \"V\",  \n",
    "                            \"atol\": 1e-4, \n",
    "                            \"rtol\": 1e-3,\n",
    "                            \"goto\": \"Next\" \n",
    "                        }\n",
    "                    ]\n",
    "                },\n",
    "                {\n",
    "                    \"name\": \"Charge-CV\",\n",
    "                    \"type\": \"Voltage\",\n",
    "                    \"value\": 4.199,\n",
    "                    \"unit\": \"V\",\n",
    "                    \"t_max\": {\"value\": 600, \"unit\": \"s\"},\n",
    "                    \"store_delay\": -1,\n",
    "                    \"min_step\": 10,\n",
    "                    \"events\": [{\n",
    "                        \"type\": \"Current\",\n",
    "                        \"value\": 0.02,\n",
    "                        \"unit\": \"C\",  \n",
    "                        \"atol\": 1e-4, \n",
    "                        \"rtol\": 1e-3,\n",
    "                        \"goto\": \"Next\" \n",
    "                    }]\n",
    "                },\n",
    "            ]}\n",
    "\n",
    "cycling_test_plan = {\n",
    "    'initial_state': {\n",
    "        'SOC': 1,\n",
    "        'exterior_temperature': 298\n",
    "    },\n",
    "    'steps': [cycling]\n",
    "}"
   ]
  },
  {
   "cell_type": "code",
   "execution_count": null,
   "metadata": {},
   "outputs": [],
   "source": [
    "save_path = init_results_folder(\n",
    "    f'{case}_LAM', overwrite=overwrite, copy_files=[os.path.join(data_path,params), model_options.dict(), cycling_test_plan], filenames = ['params', 'simulation_options', 'test_plan']\n",
    ")"
   ]
  },
  {
   "cell_type": "code",
   "execution_count": null,
   "metadata": {},
   "outputs": [],
   "source": [
    "csi = CSI(os.path.join(data_path,params), model_options, save_path=save_path, overwrite=overwrite)\n",
    "csi.read_test_plan(cycling_test_plan)"
   ]
  },
  {
   "cell_type": "code",
   "execution_count": null,
   "metadata": {},
   "outputs": [],
   "source": [
    "csi.run_test_plan()"
   ]
  },
  {
   "cell_type": "code",
   "execution_count": null,
   "metadata": {},
   "outputs": [],
   "source": [
    "import matplotlib.pyplot as plt\n",
    "plt.rc('text', usetex=True)\n",
    "plt.rc('font', family='serif')\n",
    "\n",
    "# Get global variables\n",
    "time = csi.problem.WH.get_global_variable('time')\n",
    "voltage = csi.problem.WH.get_global_variable('voltage')\n",
    "eps_s_a0 = csi.problem.WH.get_global_variable('eps_s_a0_avg')\n",
    "eps_s_c0 = csi.problem.WH.get_global_variable('eps_s_c0_avg')\n",
    "sigma_h_a0 = csi.problem.WH.get_global_variable('sigma_h_a0_avg')\n",
    "sigma_h_c0 = csi.problem.WH.get_global_variable('sigma_h_c0_avg')\n",
    "\n",
    "# Plot voltage vs time\n",
    "fig1, ax1 = plt.subplots(1, 1, figsize=(5.5, 4), dpi=200)\n",
    "ax1.plot(time, voltage, \"-\", label='voltage')\n",
    "ax1.set_xlabel(\"Time [s]\")\n",
    "ax1.set_ylabel(\"Voltage [V]\")\n",
    "\n",
    "# Plot eps_s_a0 vs time\n",
    "fig2, axs = plt.subplots(2, 2, figsize=(5.5, 4), dpi=200)\n",
    "axs[0,0].plot(time, eps_s_a0, \"-\", label='eps_s_a0')\n",
    "axs[0,0].set_xlabel(\"Time [s]\")\n",
    "axs[0,0].set_ylabel(r\"$\\varepsilon_{s}^a \\quad \\left[-\\right]$\")\n",
    "\n",
    "# Plot eps_s_c0 vs time\n",
    "axs[0,1].plot(time, eps_s_c0, \"-\", label='eps_s_c0')\n",
    "axs[0,1].set_xlabel(\"Time [s]\")\n",
    "axs[0,1].set_ylabel(r\"$\\varepsilon_{s}^c \\quad \\left[-\\right]$\")\n",
    "\n",
    "# Plot sigma_h_a0 vs time\n",
    "axs[1,0].plot(time, sigma_h_a0, \"-\", label='sigma_h_a0')\n",
    "axs[1,0].set_xlabel(\"Time [s]\")\n",
    "axs[1,0].set_ylabel(r\"$\\sigma_{h}^a \\quad \\left[Pa\\right]$\")\n",
    "\n",
    "# Plot sigma_h_c0 vs time\n",
    "axs[1,1].plot(time, sigma_h_c0, \"-\", label='sigma_h_c0')\n",
    "axs[1,1].set_xlabel(\"Time [s]\")\n",
    "axs[1,1].set_ylabel(r\"$\\sigma_{h}^c \\quad \\left[Pa\\right]$\")\n",
    "plt.tight_layout()\n",
    "plt.show()"
   ]
  }
 ],
 "metadata": {
  "kernelspec": {
   "display_name": "Python 3.10.4 64-bit",
   "language": "python",
   "name": "python3"
  },
  "language_info": {
   "codemirror_mode": {
    "name": "ipython",
    "version": 3
   },
   "file_extension": ".py",
   "mimetype": "text/x-python",
   "name": "python",
   "nbconvert_exporter": "python",
   "pygments_lexer": "ipython3",
   "version": "3.6.9"
  },
  "orig_nbformat": 4,
  "vscode": {
   "interpreter": {
    "hash": "31f2aee4e71d21fbe5cf8b01ff0e069b9275f58929596ceb00d14d90e3e16cd6"
   }
  }
 },
 "nbformat": 4,
 "nbformat_minor": 2
}
